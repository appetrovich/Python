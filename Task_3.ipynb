{
 "cells": [
  {
   "cell_type": "code",
   "execution_count": 2,
   "metadata": {
    "jupyter": {
     "outputs_hidden": true
    }
   },
   "outputs": [],
   "source": [
    "import pandas as pd\n",
    "import matplotlib.pyplot as plt"
   ]
  },
  {
   "cell_type": "markdown",
   "metadata": {},
   "source": [
    "В файле `data/weather.csv` находит архив погоды в г. Санкт-Петербург с 1 января 2008 года по 31 декабря 2016 года. Файл состоит из двух столбцов - дата (**Day**) и средняя дневная температура в этот день (**t**). Прочитать данные в `pandas` можно с помощью кода:"
   ]
  },
  {
   "cell_type": "code",
   "execution_count": 3,
   "metadata": {},
   "outputs": [],
   "source": [
    "df = pd.read_csv('/Users/petrovich/Classification of documents/data/weather.csv', encoding='utf-8', index_col=False, parse_dates=[0])"
   ]
  },
  {
   "cell_type": "code",
   "execution_count": 4,
   "metadata": {},
   "outputs": [
    {
     "data": {
      "text/html": [
       "<div>\n",
       "<style scoped>\n",
       "    .dataframe tbody tr th:only-of-type {\n",
       "        vertical-align: middle;\n",
       "    }\n",
       "\n",
       "    .dataframe tbody tr th {\n",
       "        vertical-align: top;\n",
       "    }\n",
       "\n",
       "    .dataframe thead th {\n",
       "        text-align: right;\n",
       "    }\n",
       "</style>\n",
       "<table border=\"1\" class=\"dataframe\">\n",
       "  <thead>\n",
       "    <tr style=\"text-align: right;\">\n",
       "      <th></th>\n",
       "      <th>Day</th>\n",
       "      <th>t</th>\n",
       "    </tr>\n",
       "  </thead>\n",
       "  <tbody>\n",
       "    <tr>\n",
       "      <th>0</th>\n",
       "      <td>2008-01-01</td>\n",
       "      <td>0</td>\n",
       "    </tr>\n",
       "    <tr>\n",
       "      <th>1</th>\n",
       "      <td>2008-01-02</td>\n",
       "      <td>-5</td>\n",
       "    </tr>\n",
       "    <tr>\n",
       "      <th>2</th>\n",
       "      <td>2008-01-03</td>\n",
       "      <td>-11</td>\n",
       "    </tr>\n",
       "    <tr>\n",
       "      <th>3</th>\n",
       "      <td>2008-01-04</td>\n",
       "      <td>-11</td>\n",
       "    </tr>\n",
       "    <tr>\n",
       "      <th>4</th>\n",
       "      <td>2008-01-05</td>\n",
       "      <td>-12</td>\n",
       "    </tr>\n",
       "  </tbody>\n",
       "</table>\n",
       "</div>"
      ],
      "text/plain": [
       "         Day   t\n",
       "0 2008-01-01   0\n",
       "1 2008-01-02  -5\n",
       "2 2008-01-03 -11\n",
       "3 2008-01-04 -11\n",
       "4 2008-01-05 -12"
      ]
     },
     "execution_count": 4,
     "metadata": {},
     "output_type": "execute_result"
    }
   ],
   "source": [
    "df.head(5)"
   ]
  },
  {
   "cell_type": "markdown",
   "metadata": {},
   "source": [
    "С помощью `Pandas` решите следующие задачи"
   ]
  },
  {
   "cell_type": "markdown",
   "metadata": {},
   "source": [
    "**1.** Определите самый холодный год, в котором среднеяя температура была минимальная и самый теплый год. "
   ]
  },
  {
   "cell_type": "code",
   "execution_count": 5,
   "metadata": {
    "jupyter": {
     "outputs_hidden": true
    }
   },
   "outputs": [
    {
     "name": "stdout",
     "output_type": "stream",
     "text": [
      "             t\n",
      "Year          \n",
      "2012  6.980822\n",
      "2010  7.117808\n",
      "2009  7.610959\n",
      "2016  7.907104\n",
      "2011  8.337912\n",
      "2008  8.545205\n",
      "2013  8.728767\n",
      "2014  8.931507\n",
      "2015  9.079452 \n",
      "\n",
      "2012\n",
      "2015\n"
     ]
    }
   ],
   "source": [
    "a = df.rename(columns={\"Day\": \"Year\"})\n",
    "a = a.groupby(a.Year.dt.year)\n",
    "res = a.mean().sort_values(by='t')\n",
    "\n",
    "min_year = res.index[0]\n",
    "max_year = res.index[-1]\n",
    "print(res, \"\\n\")\n",
    "\n",
    "print(min_year)\n",
    "print(max_year)"
   ]
  },
  {
   "cell_type": "markdown",
   "metadata": {},
   "source": [
    "**2.** Определите год, где в январе было наибольшее число дней с положительной температурой ($\\text{t} \\ge 0$)."
   ]
  },
  {
   "cell_type": "code",
   "execution_count": 6,
   "metadata": {
    "jupyter": {
     "outputs_hidden": true
    }
   },
   "outputs": [
    {
     "name": "stdout",
     "output_type": "stream",
     "text": [
      "         t                                              \n",
      "     count      mean       std  min   25%  50%  75%  max\n",
      "Day                                                     \n",
      "2008  19.0  1.526316  0.904828  0.0  1.00  2.0  2.0  3.0\n",
      "2009  11.0  1.636364  1.433369  0.0  0.00  2.0  2.5  4.0\n",
      "2011   5.0  0.800000  0.836660  0.0  0.00  1.0  1.0  2.0\n",
      "2012   6.0  0.833333  0.752773  0.0  0.25  1.0  1.0  2.0\n",
      "2013   5.0  0.600000  0.894427  0.0  0.00  0.0  1.0  2.0\n",
      "2014   8.0  2.750000  1.281740  1.0  1.75  3.0  4.0  4.0\n",
      "2015  14.0  1.500000  1.091928  0.0  1.00  1.0  2.0  4.0\n",
      "2016   5.0  3.000000  1.870829  1.0  2.00  2.0  5.0  5.0\n"
     ]
    },
    {
     "data": {
      "text/plain": [
       "2008"
      ]
     },
     "execution_count": 6,
     "metadata": {},
     "output_type": "execute_result"
    }
   ],
   "source": [
    "b = df[(df.Day.dt.month == 1) & (df.t >= 0)].dropna().groupby(df.Day.dt.year)\n",
    "print(b.describe())\n",
    "res = b.count().sort_values(by='t').index[-1]\n",
    "res"
   ]
  },
  {
   "cell_type": "markdown",
   "metadata": {},
   "source": [
    "**3.** В каком году было самое холодное лето (по средней температуре)"
   ]
  },
  {
   "cell_type": "code",
   "execution_count": 7,
   "metadata": {
    "jupyter": {
     "outputs_hidden": true
    }
   },
   "outputs": [
    {
     "name": "stdout",
     "output_type": "stream",
     "text": [
      "         t                                                     \n",
      "     count       mean       std   min    25%   50%    75%   max\n",
      "Day                                                            \n",
      "2008  92.0  18.119565  3.579067  10.0  16.00  18.0  21.00  27.0\n",
      "2009  92.0  18.728261  3.874695   9.0  17.00  19.0  21.00  26.0\n",
      "2010  92.0  22.119565  6.199685  10.0  17.00  22.0  27.00  34.0\n",
      "2011  91.0  21.318681  4.531076  13.0  18.00  21.0  24.00  31.0\n",
      "2012  92.0  19.086957  3.867737  12.0  16.00  18.5  22.00  31.0\n",
      "2013  92.0  21.543478  3.686665  14.0  19.00  21.0  24.00  31.0\n",
      "2014  92.0  20.706522  5.603253  10.0  16.00  20.0  25.25  31.0\n",
      "2015  92.0  19.032609  3.256274  12.0  16.75  19.0  21.25  27.0\n",
      "2016  92.0  19.326087  4.188180   9.0  17.00  20.0  22.00  30.0\n"
     ]
    },
    {
     "data": {
      "text/plain": [
       "2008"
      ]
     },
     "execution_count": 7,
     "metadata": {},
     "output_type": "execute_result"
    }
   ],
   "source": [
    "summer = [6, 7, 8]\n",
    "c = df[df.Day.dt.month.isin(summer)].dropna().groupby(df.Day.dt.year)\n",
    "print(c.describe())\n",
    "res = c.mean().sort_values(by='t').index[0]\n",
    "res"
   ]
  },
  {
   "cell_type": "markdown",
   "metadata": {},
   "source": [
    "**4.** Найдите день с самой большим перепадом температуры, если сравнивать со следующим днем. "
   ]
  },
  {
   "cell_type": "code",
   "execution_count": 51,
   "metadata": {
    "jupyter": {
     "outputs_hidden": true
    }
   },
   "outputs": [
    {
     "data": {
      "text/plain": [
       "datetime.date(2014, 5, 26)"
      ]
     },
     "execution_count": 51,
     "metadata": {},
     "output_type": "execute_result"
    }
   ],
   "source": [
    "d = abs(df['t'].diff()).sort_values().dropna().index[-1]-1\n",
    "df['Day'][d].date()"
   ]
  },
  {
   "cell_type": "markdown",
   "metadata": {},
   "source": [
    "**5.** Постройте график среднегодовых температур (по оси $x$ - год, по оси $y$ - средняя температура в этот год)."
   ]
  },
  {
   "cell_type": "code",
   "execution_count": 126,
   "metadata": {
    "jupyter": {
     "outputs_hidden": true
    }
   },
   "outputs": [
    {
     "data": {
      "image/png": "[encoded data removed]",
      "text/plain": [
       "<Figure size 432x288 with 1 Axes>"
      ]
     },
     "metadata": {
      "needs_background": "light"
     },
     "output_type": "display_data"
    }
   ],
   "source": [
    "e = df.rename(columns={\"Day\": \"Year\"})\n",
    "e = df.groupby(e.Year.dt.year).t\n",
    "res = e.mean()\n",
    "\n",
    "res.plot()\n",
    "plt.ylabel(\"Средняя температура\")\n",
    "plt.xlabel(\"Год\")\n",
    "plt.grid()"
   ]
  },
  {
   "cell_type": "code",
   "execution_count": null,
   "metadata": {},
   "outputs": [],
   "source": []
  },
  {
   "cell_type": "code",
   "execution_count": null,
   "metadata": {},
   "outputs": [],
   "source": []
  }
 ],
 "metadata": {
  "kernelspec": {
   "display_name": "Python 3 (ipykernel)",
   "language": "python",
   "name": "python3"
  },
  "language_info": {
   "codemirror_mode": {
    "name": "ipython",
    "version": 3
   },
   "file_extension": ".py",
   "mimetype": "text/x-python",
   "name": "python",
   "nbconvert_exporter": "python",
   "pygments_lexer": "ipython3",
   "version": "3.9.7"
  }
 },
 "nbformat": 4,
 "nbformat_minor": 4
}
