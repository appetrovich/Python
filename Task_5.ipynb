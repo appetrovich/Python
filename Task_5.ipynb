{
 "cells": [
  {
   "cell_type": "markdown",
   "metadata": {},
   "source": [
    "# Задание 5. Извлечение данных "
   ]
  },
  {
   "cell_type": "markdown",
   "metadata": {},
   "source": [
    "## Задание 5.1\n",
    "\n",
    "Напишите скрипт, который скачивает  сообщения с Телеграм-канала https://t.me/Sputnik_results . Сохраните сообщения в формате по вашему выбору (.csv, .jsonl, sqlite, parquet, и т.д.). Откройте с помощью Pandas или аналогичных библиотек, постройте график числа сообщений в зависимости от даты. "
   ]
  },
  {
   "cell_type": "markdown",
   "metadata": {},
   "source": [
    "#### Код скрипта для скачивания сообщений"
   ]
  },
  {
   "cell_type": "code",
   "execution_count": null,
   "metadata": {},
   "outputs": [],
   "source": [
    "from telethon.sync import TelegramClient\n",
    "from telethon.tl.functions.messages import GetHistoryRequest\n",
    "import csv\n",
    " \n",
    "api_id = ...\n",
    "api_hash = \"...\"\n",
    "phone = \"...\"\n",
    " \n",
    "client = TelegramClient(phone, api_id, api_hash)\n",
    "client.start()\n",
    " \n",
    "offset_id = 0\n",
    "limit = 100\n",
    "all_messages = []\n",
    "total_messages = 0\n",
    "total_count_limit = 0\n",
    "target_group = 'https://t.me/Sputnik_results'\n",
    "\n",
    "print(target_group)\n",
    "print(\"Производим парсинг сообщений в канале...\") \n",
    "while True:\n",
    "   history = client(GetHistoryRequest(\n",
    "       peer=target_group,\n",
    "       offset_id=offset_id,\n",
    "       offset_date=None,\n",
    "       add_offset=0,\n",
    "       limit=limit,\n",
    "       max_id=0,\n",
    "       min_id=0,\n",
    "       hash=0\n",
    "   ))\n",
    "   if not history.messages:\n",
    "       break\n",
    "   messages = history.messages\n",
    "\n",
    "   for message in messages:\n",
    "       all_messages.append(message)\n",
    "   offset_id = messages[len(messages) - 1].id\n",
    "   if total_count_limit != 0 and total_messages >= total_count_limit:\n",
    "       break\n",
    "  \n",
    "print(\"Сохраняем данные в файл...\")\n",
    "with open(\"chats.csv\", \"w\", encoding=\"UTF-8\") as f:\n",
    "   writer = csv.writer(f, delimiter=\",\", lineterminator=\"\\n\")\n",
    "   writer.writerow([\"date\", \"message\"])  \n",
    "   for message in all_messages:\n",
    "        writer.writerow([message.date.date(), message.message])  \n",
    "print('Парсинг сообщений группы успешно выполнен.')"
   ]
  },
  {
   "cell_type": "markdown",
   "metadata": {},
   "source": [
    "#### Построение графика числа сообщений"
   ]
  },
  {
   "cell_type": "code",
   "execution_count": 204,
   "metadata": {},
   "outputs": [],
   "source": [
    "import pandas as pd\n",
    "import matplotlib.pyplot as plt\n",
    "import seaborn as sns\n",
    "import numpy as np"
   ]
  },
  {
   "cell_type": "code",
   "execution_count": 205,
   "metadata": {},
   "outputs": [
    {
     "data": {
      "text/html": [
       "<div>\n",
       "<style scoped>\n",
       "    .dataframe tbody tr th:only-of-type {\n",
       "        vertical-align: middle;\n",
       "    }\n",
       "\n",
       "    .dataframe tbody tr th {\n",
       "        vertical-align: top;\n",
       "    }\n",
       "\n",
       "    .dataframe thead th {\n",
       "        text-align: right;\n",
       "    }\n",
       "</style>\n",
       "<table border=\"1\" class=\"dataframe\">\n",
       "  <thead>\n",
       "    <tr style=\"text-align: right;\">\n",
       "      <th></th>\n",
       "      <th>date</th>\n",
       "      <th>message</th>\n",
       "    </tr>\n",
       "  </thead>\n",
       "  <tbody>\n",
       "    <tr>\n",
       "      <th>0</th>\n",
       "      <td>2022-12-29</td>\n",
       "      <td>Народные отчеты о вакцинации\\n\\n⚠️ ТОЛЬКО ПУБЛ...</td>\n",
       "    </tr>\n",
       "    <tr>\n",
       "      <th>1</th>\n",
       "      <td>2022-12-28</td>\n",
       "      <td>Пол, возраст, наличие хр.заболеваний укажите, ...</td>\n",
       "    </tr>\n",
       "    <tr>\n",
       "      <th>2</th>\n",
       "      <td>2022-12-27</td>\n",
       "      <td>Конвасэл до сих пор не даёт полноценный QR код...</td>\n",
       "    </tr>\n",
       "    <tr>\n",
       "      <th>3</th>\n",
       "      <td>2022-12-27</td>\n",
       "      <td>Dima32 Данный чат предназначен только для отчё...</td>\n",
       "    </tr>\n",
       "    <tr>\n",
       "      <th>4</th>\n",
       "      <td>2022-12-26</td>\n",
       "      <td>📣 ВЕСТНИК V1V2.ru выпуск #70 от 09.12.2022@09:...</td>\n",
       "    </tr>\n",
       "    <tr>\n",
       "      <th>...</th>\n",
       "      <td>...</td>\n",
       "      <td>...</td>\n",
       "    </tr>\n",
       "    <tr>\n",
       "      <th>31671</th>\n",
       "      <td>2020-12-09</td>\n",
       "      <td>Есть примеры, уже появлялись</td>\n",
       "    </tr>\n",
       "    <tr>\n",
       "      <th>31672</th>\n",
       "      <td>2020-12-09</td>\n",
       "      <td>Если денег не жалко</td>\n",
       "    </tr>\n",
       "    <tr>\n",
       "      <th>31673</th>\n",
       "      <td>2020-12-09</td>\n",
       "      <td>Не рано?</td>\n",
       "    </tr>\n",
       "    <tr>\n",
       "      <th>31674</th>\n",
       "      <td>2020-12-09</td>\n",
       "      <td>Через 2 недели обычно сдают</td>\n",
       "    </tr>\n",
       "    <tr>\n",
       "      <th>31677</th>\n",
       "      <td>2020-12-09</td>\n",
       "      <td>Первые вакцины вкололи 5 дней назад, будем ски...</td>\n",
       "    </tr>\n",
       "  </tbody>\n",
       "</table>\n",
       "<p>23376 rows × 2 columns</p>\n",
       "</div>"
      ],
      "text/plain": [
       "             date                                            message\n",
       "0      2022-12-29  Народные отчеты о вакцинации\\n\\n⚠️ ТОЛЬКО ПУБЛ...\n",
       "1      2022-12-28  Пол, возраст, наличие хр.заболеваний укажите, ...\n",
       "2      2022-12-27  Конвасэл до сих пор не даёт полноценный QR код...\n",
       "3      2022-12-27  Dima32 Данный чат предназначен только для отчё...\n",
       "4      2022-12-26  📣 ВЕСТНИК V1V2.ru выпуск #70 от 09.12.2022@09:...\n",
       "...           ...                                                ...\n",
       "31671  2020-12-09                       Есть примеры, уже появлялись\n",
       "31672  2020-12-09                                Если денег не жалко\n",
       "31673  2020-12-09                                           Не рано?\n",
       "31674  2020-12-09                        Через 2 недели обычно сдают\n",
       "31677  2020-12-09  Первые вакцины вкололи 5 дней назад, будем ски...\n",
       "\n",
       "[23376 rows x 2 columns]"
      ]
     },
     "execution_count": 205,
     "metadata": {},
     "output_type": "execute_result"
    }
   ],
   "source": [
    "df = pd.read_csv('chats.csv').dropna()\n",
    "df"
   ]
  },
  {
   "cell_type": "code",
   "execution_count": 206,
   "metadata": {},
   "outputs": [
    {
     "data": {
      "text/html": [
       "<div>\n",
       "<style scoped>\n",
       "    .dataframe tbody tr th:only-of-type {\n",
       "        vertical-align: middle;\n",
       "    }\n",
       "\n",
       "    .dataframe tbody tr th {\n",
       "        vertical-align: top;\n",
       "    }\n",
       "\n",
       "    .dataframe thead th {\n",
       "        text-align: right;\n",
       "    }\n",
       "</style>\n",
       "<table border=\"1\" class=\"dataframe\">\n",
       "  <thead>\n",
       "    <tr style=\"text-align: right;\">\n",
       "      <th></th>\n",
       "      <th>message</th>\n",
       "    </tr>\n",
       "    <tr>\n",
       "      <th>date</th>\n",
       "      <th></th>\n",
       "    </tr>\n",
       "  </thead>\n",
       "  <tbody>\n",
       "    <tr>\n",
       "      <th>2020-12-09</th>\n",
       "      <td>48</td>\n",
       "    </tr>\n",
       "    <tr>\n",
       "      <th>2020-12-10</th>\n",
       "      <td>29</td>\n",
       "    </tr>\n",
       "    <tr>\n",
       "      <th>2020-12-11</th>\n",
       "      <td>17</td>\n",
       "    </tr>\n",
       "    <tr>\n",
       "      <th>2020-12-12</th>\n",
       "      <td>5</td>\n",
       "    </tr>\n",
       "    <tr>\n",
       "      <th>2020-12-13</th>\n",
       "      <td>11</td>\n",
       "    </tr>\n",
       "    <tr>\n",
       "      <th>...</th>\n",
       "      <td>...</td>\n",
       "    </tr>\n",
       "    <tr>\n",
       "      <th>2022-12-25</th>\n",
       "      <td>1</td>\n",
       "    </tr>\n",
       "    <tr>\n",
       "      <th>2022-12-26</th>\n",
       "      <td>1</td>\n",
       "    </tr>\n",
       "    <tr>\n",
       "      <th>2022-12-27</th>\n",
       "      <td>2</td>\n",
       "    </tr>\n",
       "    <tr>\n",
       "      <th>2022-12-28</th>\n",
       "      <td>1</td>\n",
       "    </tr>\n",
       "    <tr>\n",
       "      <th>2022-12-29</th>\n",
       "      <td>1</td>\n",
       "    </tr>\n",
       "  </tbody>\n",
       "</table>\n",
       "<p>596 rows × 1 columns</p>\n",
       "</div>"
      ],
      "text/plain": [
       "            message\n",
       "date               \n",
       "2020-12-09       48\n",
       "2020-12-10       29\n",
       "2020-12-11       17\n",
       "2020-12-12        5\n",
       "2020-12-13       11\n",
       "...             ...\n",
       "2022-12-25        1\n",
       "2022-12-26        1\n",
       "2022-12-27        2\n",
       "2022-12-28        1\n",
       "2022-12-29        1\n",
       "\n",
       "[596 rows x 1 columns]"
      ]
     },
     "execution_count": 206,
     "metadata": {},
     "output_type": "execute_result"
    }
   ],
   "source": [
    "res = df.groupby('date').count()\n",
    "res"
   ]
  },
  {
   "cell_type": "code",
   "execution_count": 207,
   "metadata": {},
   "outputs": [
    {
     "data": {
      "image/png": "[encoded data removed]",
      "text/plain": [
       "<Figure size 640x480 with 1 Axes>"
      ]
     },
     "metadata": {},
     "output_type": "display_data"
    }
   ],
   "source": [
    "sns.set_theme()\n",
    "res.plot()\n",
    "plt.locator_params(axis='x', nbins=5)\n",
    "plt.ylabel(\"Число сообщений\")\n",
    "plt.xlabel(\"Дата\")\n",
    "plt.legend().remove()\n"
   ]
  },
  {
   "cell_type": "markdown",
   "metadata": {},
   "source": [
    "## Задание 5.2\n",
    "1.Напишите функции для извлечения данных из сообщений:\n",
    "   - пол участника\n",
    "   - возраст участника\n",
    "\n",
    "   Постройте диаграммы для визуализации. \n",
    "\n",
    "2.Реализуйте какой-либо анализ этих данных на ваше усмотрение. Например их можно кластеризовать и интерпретировать кластеры, или попробовать выделить статистику по среднему количеству антител в зависимости от возраста, или посчитать количество заболевших после вакцинации. Обязательна визуализация. "
   ]
  },
  {
   "cell_type": "markdown",
   "metadata": {},
   "source": [
    "#### Реализация функций для извлечения данных из сообщений"
   ]
  },
  {
   "cell_type": "code",
   "execution_count": 208,
   "metadata": {},
   "outputs": [],
   "source": [
    "import regex as re"
   ]
  },
  {
   "cell_type": "code",
   "execution_count": 209,
   "metadata": {},
   "outputs": [],
   "source": [
    "age = r'(\\d{2})'\n",
    "gender = r'([МмЖжД])(уж|ен)?(чина|щина)?'\n",
    "pattern = re.compile(r'\\b' + gender + r'\\W{,3}' + age + r'|' + r'\\b' + age + r'\\W{,3}' + gender)"
   ]
  },
  {
   "cell_type": "code",
   "execution_count": 210,
   "metadata": {},
   "outputs": [],
   "source": [
    "def get_gender_n_age(df):\n",
    "    ages = []\n",
    "    genders = []\n",
    "    success = 0\n",
    "    for mes in df['message']:\n",
    "        result = pattern.search(mes)\n",
    "\n",
    "        if result is not None:\n",
    "            if result.group(1) is not None:\n",
    "                ages.append(result.group(4))\n",
    "                if result.group(1).upper() == \"М\":\n",
    "                    genders.append(\"М\")\n",
    "                else:\n",
    "                    genders.append(\"Ж\")\n",
    "            else:\n",
    "                ages.append(result.group(5))\n",
    "                if result.group(6).upper() == \"М\":\n",
    "                    genders.append(\"М\")\n",
    "                else:\n",
    "                    genders.append(\"Ж\")\n",
    "            success+=1\n",
    "        else:\n",
    "            ages.append(None)\n",
    "            genders.append(None)\n",
    "\n",
    "    return genders, ages"
   ]
  },
  {
   "cell_type": "code",
   "execution_count": 211,
   "metadata": {},
   "outputs": [
    {
     "data": {
      "text/html": [
       "<div>\n",
       "<style scoped>\n",
       "    .dataframe tbody tr th:only-of-type {\n",
       "        vertical-align: middle;\n",
       "    }\n",
       "\n",
       "    .dataframe tbody tr th {\n",
       "        vertical-align: top;\n",
       "    }\n",
       "\n",
       "    .dataframe thead th {\n",
       "        text-align: right;\n",
       "    }\n",
       "</style>\n",
       "<table border=\"1\" class=\"dataframe\">\n",
       "  <thead>\n",
       "    <tr style=\"text-align: right;\">\n",
       "      <th></th>\n",
       "      <th>date</th>\n",
       "      <th>message</th>\n",
       "      <th>gender</th>\n",
       "      <th>age</th>\n",
       "    </tr>\n",
       "  </thead>\n",
       "  <tbody>\n",
       "    <tr>\n",
       "      <th>5</th>\n",
       "      <td>2022-12-25</td>\n",
       "      <td>#назально #ревак #спутник-V\\nМ33. 1 комп.: лег...</td>\n",
       "      <td>М</td>\n",
       "      <td>33</td>\n",
       "    </tr>\n",
       "    <tr>\n",
       "      <th>7</th>\n",
       "      <td>2022-12-19</td>\n",
       "      <td>#назально #ревак. Ж35. Хр. Заболевания: полива...</td>\n",
       "      <td>Ж</td>\n",
       "      <td>35</td>\n",
       "    </tr>\n",
       "    <tr>\n",
       "      <th>9</th>\n",
       "      <td>2022-12-16</td>\n",
       "      <td>#ревак #назально\\n11.12.22. Гум, Спутник+Ультр...</td>\n",
       "      <td>Ж</td>\n",
       "      <td>45</td>\n",
       "    </tr>\n",
       "    <tr>\n",
       "      <th>10</th>\n",
       "      <td>2022-12-12</td>\n",
       "      <td>#дети\\nМ 13 лет.  спутник м. \\n1я доза 23.10.2...</td>\n",
       "      <td>М</td>\n",
       "      <td>13</td>\n",
       "    </tr>\n",
       "    <tr>\n",
       "      <th>11</th>\n",
       "      <td>2022-12-09</td>\n",
       "      <td>#ревак  #назально  #спутник \\nМ 49 вторая доза...</td>\n",
       "      <td>М</td>\n",
       "      <td>49</td>\n",
       "    </tr>\n",
       "    <tr>\n",
       "      <th>...</th>\n",
       "      <td>...</td>\n",
       "      <td>...</td>\n",
       "      <td>...</td>\n",
       "      <td>...</td>\n",
       "    </tr>\n",
       "    <tr>\n",
       "      <th>31476</th>\n",
       "      <td>2020-12-10</td>\n",
       "      <td>В смысле \"пятым\" на флакон? В моем случае, дос...</td>\n",
       "      <td>М</td>\n",
       "      <td>15</td>\n",
       "    </tr>\n",
       "    <tr>\n",
       "      <th>31501</th>\n",
       "      <td>2020-12-10</td>\n",
       "      <td>Ж.47  Сутки после вакцинации (9.12.20).   К ве...</td>\n",
       "      <td>Ж</td>\n",
       "      <td>47</td>\n",
       "    </tr>\n",
       "    <tr>\n",
       "      <th>31538</th>\n",
       "      <td>2020-12-10</td>\n",
       "      <td>М 48. Без симтомов. Тест на 30 день. вакцина 1...</td>\n",
       "      <td>М</td>\n",
       "      <td>48</td>\n",
       "    </tr>\n",
       "    <tr>\n",
       "      <th>31574</th>\n",
       "      <td>2020-12-09</td>\n",
       "      <td>М37. Первый компонент 03.12.2020 в 17:00. Чере...</td>\n",
       "      <td>М</td>\n",
       "      <td>37</td>\n",
       "    </tr>\n",
       "    <tr>\n",
       "      <th>31587</th>\n",
       "      <td>2020-12-09</td>\n",
       "      <td>Сделала сегодня в 18.30 ,почти сразу буквально...</td>\n",
       "      <td>М</td>\n",
       "      <td>15</td>\n",
       "    </tr>\n",
       "  </tbody>\n",
       "</table>\n",
       "<p>16353 rows × 4 columns</p>\n",
       "</div>"
      ],
      "text/plain": [
       "             date                                            message gender  \\\n",
       "5      2022-12-25  #назально #ревак #спутник-V\\nМ33. 1 комп.: лег...      М   \n",
       "7      2022-12-19  #назально #ревак. Ж35. Хр. Заболевания: полива...      Ж   \n",
       "9      2022-12-16  #ревак #назально\\n11.12.22. Гум, Спутник+Ультр...      Ж   \n",
       "10     2022-12-12  #дети\\nМ 13 лет.  спутник м. \\n1я доза 23.10.2...      М   \n",
       "11     2022-12-09  #ревак  #назально  #спутник \\nМ 49 вторая доза...      М   \n",
       "...           ...                                                ...    ...   \n",
       "31476  2020-12-10  В смысле \"пятым\" на флакон? В моем случае, дос...      М   \n",
       "31501  2020-12-10  Ж.47  Сутки после вакцинации (9.12.20).   К ве...      Ж   \n",
       "31538  2020-12-10  М 48. Без симтомов. Тест на 30 день. вакцина 1...      М   \n",
       "31574  2020-12-09  М37. Первый компонент 03.12.2020 в 17:00. Чере...      М   \n",
       "31587  2020-12-09  Сделала сегодня в 18.30 ,почти сразу буквально...      М   \n",
       "\n",
       "      age  \n",
       "5      33  \n",
       "7      35  \n",
       "9      45  \n",
       "10     13  \n",
       "11     49  \n",
       "...    ..  \n",
       "31476  15  \n",
       "31501  47  \n",
       "31538  48  \n",
       "31574  37  \n",
       "31587  15  \n",
       "\n",
       "[16353 rows x 4 columns]"
      ]
     },
     "execution_count": 211,
     "metadata": {},
     "output_type": "execute_result"
    }
   ],
   "source": [
    "genders, ages = get_gender_n_age(df)\n",
    "df2 = df.assign(gender=genders, age=ages)\n",
    "df2 = df2.dropna()\n",
    "df2"
   ]
  },
  {
   "cell_type": "code",
   "execution_count": 212,
   "metadata": {},
   "outputs": [
    {
     "data": {
      "text/plain": [
       "Text(0, 0.5, 'Количество вакцинаций')"
      ]
     },
     "execution_count": 212,
     "metadata": {},
     "output_type": "execute_result"
    },
    {
     "data": {
      "image/png": "[encoded data removed]",
      "text/plain": [
       "<Figure size 640x480 with 1 Axes>"
      ]
     },
     "metadata": {},
     "output_type": "display_data"
    }
   ],
   "source": [
    "df2['gender'].value_counts().plot(kind='bar')\n",
    "plt.xlabel(\"Пол\")\n",
    "plt.ylabel(\"Количество вакцинаций\")"
   ]
  },
  {
   "cell_type": "code",
   "execution_count": 213,
   "metadata": {},
   "outputs": [
    {
     "data": {
      "text/plain": [
       "Text(0, 0.5, 'Количество вакцинаций')"
      ]
     },
     "execution_count": 213,
     "metadata": {},
     "output_type": "execute_result"
    },
    {
     "data": {
      "image/png": "[encoded data removed]",
      "text/plain": [
       "<Figure size 640x480 with 1 Axes>"
      ]
     },
     "metadata": {},
     "output_type": "display_data"
    }
   ],
   "source": [
    "sns.set_theme()\n",
    "df2['age'].value_counts().sort_index()[10:].plot(style=\".\")\n",
    "plt.xlabel(\"Возраст\")\n",
    "plt.ylabel(\"Количество вакцинаций\")"
   ]
  },
  {
   "cell_type": "markdown",
   "metadata": {},
   "source": [
    "#### Определим средний уровень антител в зависимости от возраста привившихся"
   ]
  },
  {
   "cell_type": "code",
   "execution_count": 214,
   "metadata": {},
   "outputs": [],
   "source": [
    "find_bau = re.compile(r'(\\d+)[.,]?\\d*\\s+(BAU|bau|Bau|БАУ|бау|Бау)')"
   ]
  },
  {
   "cell_type": "code",
   "execution_count": 215,
   "metadata": {},
   "outputs": [],
   "source": [
    "def average_bau(df):\n",
    "    bau = []\n",
    "    for mes in df['message']:\n",
    "        result = find_bau.search(mes)\n",
    "        if result is not None:\n",
    "            bau.append(result.group(1))\n",
    "        else:\n",
    "            bau.append(None)\n",
    "    return bau"
   ]
  },
  {
   "cell_type": "code",
   "execution_count": 216,
   "metadata": {},
   "outputs": [
    {
     "data": {
      "text/html": [
       "<div>\n",
       "<style scoped>\n",
       "    .dataframe tbody tr th:only-of-type {\n",
       "        vertical-align: middle;\n",
       "    }\n",
       "\n",
       "    .dataframe tbody tr th {\n",
       "        vertical-align: top;\n",
       "    }\n",
       "\n",
       "    .dataframe thead th {\n",
       "        text-align: right;\n",
       "    }\n",
       "</style>\n",
       "<table border=\"1\" class=\"dataframe\">\n",
       "  <thead>\n",
       "    <tr style=\"text-align: right;\">\n",
       "      <th></th>\n",
       "      <th>date</th>\n",
       "      <th>message</th>\n",
       "      <th>gender</th>\n",
       "      <th>age</th>\n",
       "      <th>BAU</th>\n",
       "    </tr>\n",
       "  </thead>\n",
       "  <tbody>\n",
       "    <tr>\n",
       "      <th>13</th>\n",
       "      <td>2022-12-04</td>\n",
       "      <td>Дополняю и обобщаю:\\n#ревак\\nМоя мама\\nЖ88, ди...</td>\n",
       "      <td>Ж</td>\n",
       "      <td>88</td>\n",
       "      <td>665</td>\n",
       "    </tr>\n",
       "    <tr>\n",
       "      <th>14</th>\n",
       "      <td>2022-12-04</td>\n",
       "      <td>Еще дополняю и обобщаю\\n#ревак #назально\\nЖ51,...</td>\n",
       "      <td>Ж</td>\n",
       "      <td>51</td>\n",
       "      <td>313</td>\n",
       "    </tr>\n",
       "    <tr>\n",
       "      <th>26</th>\n",
       "      <td>2022-11-16</td>\n",
       "      <td>#ревак #назально #спутник\\nЖ35\\nПервая вакцина...</td>\n",
       "      <td>Ж</td>\n",
       "      <td>35</td>\n",
       "      <td>400</td>\n",
       "    </tr>\n",
       "    <tr>\n",
       "      <th>29</th>\n",
       "      <td>2022-11-08</td>\n",
       "      <td>Еще дополняю и обобщаю\\n#ревак #назально\\nЖ51,...</td>\n",
       "      <td>Ж</td>\n",
       "      <td>51</td>\n",
       "      <td>313</td>\n",
       "    </tr>\n",
       "    <tr>\n",
       "      <th>34</th>\n",
       "      <td>2022-10-31</td>\n",
       "      <td>#назально\\n\\nЖ43, в январе 2022 Омикрон без ПЦ...</td>\n",
       "      <td>Ж</td>\n",
       "      <td>43</td>\n",
       "      <td>3994</td>\n",
       "    </tr>\n",
       "    <tr>\n",
       "      <th>...</th>\n",
       "      <td>...</td>\n",
       "      <td>...</td>\n",
       "      <td>...</td>\n",
       "      <td>...</td>\n",
       "      <td>...</td>\n",
       "    </tr>\n",
       "    <tr>\n",
       "      <th>8999</th>\n",
       "      <td>2021-07-01</td>\n",
       "      <td>Ж76, М75 (мои родители), без хронических забол...</td>\n",
       "      <td>Ж</td>\n",
       "      <td>76</td>\n",
       "      <td>138</td>\n",
       "    </tr>\n",
       "    <tr>\n",
       "      <th>9184</th>\n",
       "      <td>2021-06-30</td>\n",
       "      <td>Ж18. 16 января - первый компонент Спутника, 7 ...</td>\n",
       "      <td>Ж</td>\n",
       "      <td>18</td>\n",
       "      <td>163</td>\n",
       "    </tr>\n",
       "    <tr>\n",
       "      <th>9190</th>\n",
       "      <td>2021-06-30</td>\n",
       "      <td>Ж 24, ковидом не болела, хронических заболеван...</td>\n",
       "      <td>Ж</td>\n",
       "      <td>24</td>\n",
       "      <td>329</td>\n",
       "    </tr>\n",
       "    <tr>\n",
       "      <th>10582</th>\n",
       "      <td>2021-06-16</td>\n",
       "      <td>БОЛГАРИЯ, Астразенека.\\nЖ., 32 года\\nV1 - 01.0...</td>\n",
       "      <td>Ж</td>\n",
       "      <td>32</td>\n",
       "      <td>530</td>\n",
       "    </tr>\n",
       "    <tr>\n",
       "      <th>11307</th>\n",
       "      <td>2021-05-25</td>\n",
       "      <td>М47, эзофагит, хр. гастрит, повышенное АД, изб...</td>\n",
       "      <td>М</td>\n",
       "      <td>47</td>\n",
       "      <td>553</td>\n",
       "    </tr>\n",
       "  </tbody>\n",
       "</table>\n",
       "<p>697 rows × 5 columns</p>\n",
       "</div>"
      ],
      "text/plain": [
       "             date                                            message gender  \\\n",
       "13     2022-12-04  Дополняю и обобщаю:\\n#ревак\\nМоя мама\\nЖ88, ди...      Ж   \n",
       "14     2022-12-04  Еще дополняю и обобщаю\\n#ревак #назально\\nЖ51,...      Ж   \n",
       "26     2022-11-16  #ревак #назально #спутник\\nЖ35\\nПервая вакцина...      Ж   \n",
       "29     2022-11-08  Еще дополняю и обобщаю\\n#ревак #назально\\nЖ51,...      Ж   \n",
       "34     2022-10-31  #назально\\n\\nЖ43, в январе 2022 Омикрон без ПЦ...      Ж   \n",
       "...           ...                                                ...    ...   \n",
       "8999   2021-07-01  Ж76, М75 (мои родители), без хронических забол...      Ж   \n",
       "9184   2021-06-30  Ж18. 16 января - первый компонент Спутника, 7 ...      Ж   \n",
       "9190   2021-06-30  Ж 24, ковидом не болела, хронических заболеван...      Ж   \n",
       "10582  2021-06-16  БОЛГАРИЯ, Астразенека.\\nЖ., 32 года\\nV1 - 01.0...      Ж   \n",
       "11307  2021-05-25  М47, эзофагит, хр. гастрит, повышенное АД, изб...      М   \n",
       "\n",
       "      age   BAU  \n",
       "13     88   665  \n",
       "14     51   313  \n",
       "26     35   400  \n",
       "29     51   313  \n",
       "34     43  3994  \n",
       "...    ..   ...  \n",
       "8999   76   138  \n",
       "9184   18   163  \n",
       "9190   24   329  \n",
       "10582  32   530  \n",
       "11307  47   553  \n",
       "\n",
       "[697 rows x 5 columns]"
      ]
     },
     "execution_count": 216,
     "metadata": {},
     "output_type": "execute_result"
    }
   ],
   "source": [
    "all_bau = average_bau(df2)\n",
    "df3 = df2.assign(BAU=all_bau)\n",
    "df3 = df3.dropna()\n",
    "df3"
   ]
  },
  {
   "cell_type": "code",
   "execution_count": 218,
   "metadata": {},
   "outputs": [
    {
     "data": {
      "text/html": [
       "<div>\n",
       "<style scoped>\n",
       "    .dataframe tbody tr th:only-of-type {\n",
       "        vertical-align: middle;\n",
       "    }\n",
       "\n",
       "    .dataframe tbody tr th {\n",
       "        vertical-align: top;\n",
       "    }\n",
       "\n",
       "    .dataframe thead th {\n",
       "        text-align: right;\n",
       "    }\n",
       "</style>\n",
       "<table border=\"1\" class=\"dataframe\">\n",
       "  <thead>\n",
       "    <tr style=\"text-align: right;\">\n",
       "      <th></th>\n",
       "      <th>age</th>\n",
       "      <th>BAU</th>\n",
       "    </tr>\n",
       "  </thead>\n",
       "  <tbody>\n",
       "    <tr>\n",
       "      <th>4533</th>\n",
       "      <td>08</td>\n",
       "      <td>25</td>\n",
       "    </tr>\n",
       "    <tr>\n",
       "      <th>4121</th>\n",
       "      <td>09</td>\n",
       "      <td>149</td>\n",
       "    </tr>\n",
       "    <tr>\n",
       "      <th>1533</th>\n",
       "      <td>10</td>\n",
       "      <td>97</td>\n",
       "    </tr>\n",
       "    <tr>\n",
       "      <th>1049</th>\n",
       "      <td>10</td>\n",
       "      <td>153</td>\n",
       "    </tr>\n",
       "    <tr>\n",
       "      <th>889</th>\n",
       "      <td>10</td>\n",
       "      <td>750</td>\n",
       "    </tr>\n",
       "    <tr>\n",
       "      <th>...</th>\n",
       "      <td>...</td>\n",
       "      <td>...</td>\n",
       "    </tr>\n",
       "    <tr>\n",
       "      <th>2036</th>\n",
       "      <td>85</td>\n",
       "      <td>806</td>\n",
       "    </tr>\n",
       "    <tr>\n",
       "      <th>2831</th>\n",
       "      <td>87</td>\n",
       "      <td>665</td>\n",
       "    </tr>\n",
       "    <tr>\n",
       "      <th>228</th>\n",
       "      <td>87</td>\n",
       "      <td>665</td>\n",
       "    </tr>\n",
       "    <tr>\n",
       "      <th>13</th>\n",
       "      <td>88</td>\n",
       "      <td>665</td>\n",
       "    </tr>\n",
       "    <tr>\n",
       "      <th>283</th>\n",
       "      <td>90</td>\n",
       "      <td>4997</td>\n",
       "    </tr>\n",
       "  </tbody>\n",
       "</table>\n",
       "<p>697 rows × 2 columns</p>\n",
       "</div>"
      ],
      "text/plain": [
       "     age   BAU\n",
       "4533  08    25\n",
       "4121  09   149\n",
       "1533  10    97\n",
       "1049  10   153\n",
       "889   10   750\n",
       "...   ..   ...\n",
       "2036  85   806\n",
       "2831  87   665\n",
       "228   87   665\n",
       "13    88   665\n",
       "283   90  4997\n",
       "\n",
       "[697 rows x 2 columns]"
      ]
     },
     "execution_count": 218,
     "metadata": {},
     "output_type": "execute_result"
    }
   ],
   "source": [
    "df4 = df3[[\"age\", \"BAU\"]]\n",
    "df4 = df4.sort_values(by=['age'])\n",
    "df4"
   ]
  },
  {
   "cell_type": "code",
   "execution_count": 219,
   "metadata": {},
   "outputs": [],
   "source": [
    "all_ages = []\n",
    "all_bau = []\n",
    "for age in df4['age'].values:\n",
    "    all_ages.append(float(age))\n",
    "for bau in df4['BAU'].values:\n",
    "    all_bau.append(float(bau))    "
   ]
  },
  {
   "cell_type": "code",
   "execution_count": 220,
   "metadata": {},
   "outputs": [
    {
     "data": {
      "text/plain": [
       "array([ 8., 15., 23., 30., 38., 45., 53., 60., 68., 75., 83., 90.])"
      ]
     },
     "execution_count": 220,
     "metadata": {},
     "output_type": "execute_result"
    }
   ],
   "source": [
    "splits = np.rint(np.linspace(all_ages[0], all_ages[-1], 12))\n",
    "splits"
   ]
  },
  {
   "cell_type": "code",
   "execution_count": 221,
   "metadata": {},
   "outputs": [],
   "source": [
    "step = 0 \n",
    "n = 0\n",
    "cumsum = 0\n",
    "avg_bau = []\n",
    "for i in range(len(all_ages)):\n",
    "    if all_ages[i] >= splits[step] and all_ages[i] < splits[step+1]:\n",
    "        n+=1\n",
    "        cumsum+=all_bau[i]\n",
    "    else:\n",
    "        avg_bau.append(cumsum/n)\n",
    "        cumsum = 0\n",
    "        n = 0\n",
    "        step+=1"
   ]
  },
  {
   "cell_type": "code",
   "execution_count": 222,
   "metadata": {},
   "outputs": [
    {
     "data": {
      "text/plain": [
       "Text(0, 0.5, 'BAU')"
      ]
     },
     "execution_count": 222,
     "metadata": {},
     "output_type": "execute_result"
    },
    {
     "data": {
      "image/png": "[encoded data removed]",
      "text/plain": [
       "<Figure size 640x480 with 1 Axes>"
      ]
     },
     "metadata": {},
     "output_type": "display_data"
    }
   ],
   "source": [
    "plt.bar(splits[1:], avg_bau)\n",
    "plt.xlabel(\"Возраст\")\n",
    "plt.ylabel(\"BAU\")"
   ]
  }
 ],
 "metadata": {
  "kernelspec": {
   "display_name": "Python 3.10.8 64-bit",
   "language": "python",
   "name": "python3"
  },
  "language_info": {
   "codemirror_mode": {
    "name": "ipython",
    "version": 3
   },
   "file_extension": ".py",
   "mimetype": "text/x-python",
   "name": "python",
   "nbconvert_exporter": "python",
   "pygments_lexer": "ipython3",
   "version": "3.10.8"
  },
  "vscode": {
   "interpreter": {
    "hash": "b0fa6594d8f4cbf19f97940f81e996739fb7646882a419484c72d19e05852a7e"
   }
  }
 },
 "nbformat": 4,
 "nbformat_minor": 4
}
