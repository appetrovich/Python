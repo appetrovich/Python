{
 "cells": [
  {
   "cell_type": "markdown",
   "metadata": {},
   "source": [
    "# Задание 1.1\n",
    "\n",
    "[Свертка списка](https://ru.wikipedia.org/wiki/%D0%A1%D0%B2%D1%91%D1%80%D1%82%D0%BA%D0%B0_%D1%81%D0%BF%D0%B8%D1%81%D0%BA%D0%B0) -  это обобщенная операция над списком, c помощью которой можно преобразовать список в единое значение. Например, рассмотрим реализации свертки слева и свертки справа (левоассоциативную свертку и правоассоциативную свертку):"
   ]
  },
  {
   "cell_type": "code",
   "execution_count": 1,
   "metadata": {
    "jupyter": {
     "outputs_hidden": true
    }
   },
   "outputs": [],
   "source": [
    "def foldl(f, x0, lst):\n",
    "    if not lst:\n",
    "        return x0\n",
    "    return foldl(f, f(x0, lst[0]), lst[1:])\n",
    "\n",
    "def foldr(f, x0, lst):\n",
    "    if not lst:\n",
    "        return x0\n",
    "    return f(lst[0], foldr(f, x0, lst[1:]))"
   ]
  },
  {
   "cell_type": "code",
   "execution_count": 2,
   "metadata": {},
   "outputs": [
    {
     "data": {
      "text/plain": [
       "6"
      ]
     },
     "execution_count": 2,
     "metadata": {},
     "output_type": "execute_result"
    }
   ],
   "source": [
    "#сумма\n",
    "foldl(lambda x, y: x + y, 0, [1, 2, 3])"
   ]
  },
  {
   "cell_type": "code",
   "execution_count": 3,
   "metadata": {},
   "outputs": [
    {
     "data": {
      "text/plain": [
       "'123'"
      ]
     },
     "execution_count": 3,
     "metadata": {},
     "output_type": "execute_result"
    }
   ],
   "source": [
    "#конкатенация\n",
    "foldl(lambda x, y: '{}{}'.format(x, y), '', [1, 2, 3])"
   ]
  },
  {
   "cell_type": "code",
   "execution_count": 4,
   "metadata": {},
   "outputs": [
    {
     "data": {
      "text/plain": [
       "(0.16666666666666666, 1.5)"
      ]
     },
     "execution_count": 4,
     "metadata": {},
     "output_type": "execute_result"
    }
   ],
   "source": [
    "f = lambda x, y: x / y\n",
    "foldl(f, 1, [1, 2, 3]), \\\n",
    "foldr(f, 1, [1, 2, 3])"
   ]
  },
  {
   "cell_type": "markdown",
   "metadata": {},
   "source": [
    "Задача: реализовать foldl через foldr и наоборот. Вместо многоточий нужно вставить выражения, которые бы привели к нужному результату. Модифицировать сам список нельзя. "
   ]
  },
  {
   "cell_type": "code",
   "execution_count": 5,
   "metadata": {
    "jupyter": {
     "outputs_hidden": true
    }
   },
   "outputs": [],
   "source": [
    "def foldl2(f, x0, lst):\n",
    "    return foldr(lambda x, y: lambda t: y(f(t, x)), lambda x: x, lst)(x0)"
   ]
  },
  {
   "cell_type": "code",
   "execution_count": 6,
   "metadata": {},
   "outputs": [
    {
     "data": {
      "text/plain": [
       "0.16666666666666666"
      ]
     },
     "execution_count": 6,
     "metadata": {},
     "output_type": "execute_result"
    }
   ],
   "source": [
    "foldl2(f, 1, [1, 2, 3])"
   ]
  },
  {
   "cell_type": "code",
   "execution_count": 7,
   "metadata": {
    "jupyter": {
     "outputs_hidden": true
    }
   },
   "outputs": [],
   "source": [
    "def foldr2(f, x0, lst):\n",
    "    return foldl(lambda y, x: lambda t: y(f(x, t)), lambda x: x, lst)(x0)"
   ]
  },
  {
   "cell_type": "code",
   "execution_count": 8,
   "metadata": {},
   "outputs": [
    {
     "data": {
      "text/plain": [
       "1.5"
      ]
     },
     "execution_count": 8,
     "metadata": {},
     "output_type": "execute_result"
    }
   ],
   "source": [
    "foldr2(f, 1, [1, 2, 3])"
   ]
  },
  {
   "cell_type": "markdown",
   "metadata": {},
   "source": [
    "# Задание 1.2\n",
    "\n",
    "нужно написать функцию, которая принимает две строки и проверяет, входит ли хотя бы одна перестановка второй строки в первую. Например:\n",
    "\n",
    "> a = 'abcrotm'\n",
    "> \n",
    "> b = 'tro'\n",
    "\n",
    "функция def check_inv(a, b) вернет True, так как 'rot' содержится в 'abcrotm'. Нужно подумать как можно более оптимальный алгоритм и оценить его сложность. "
   ]
  },
  {
   "cell_type": "markdown",
   "metadata": {},
   "source": [
    "Функция проходит строку a с помощью подстроки a длины b. Последовательно с конца проверяется, входит ли какой либо элемент b в данную подстроку и если да, то удаляет из подстроки и строки b данный символ. Если в результате получили пустые списки (все символы совпали), то выводим True. Если какой либо символ подстроки не совпадает с каким либо оставшимся символом строки b, то данный символ и левее него отсекаются и рассматривается оставшаяся часть строки a.\n",
    "В худшем случае алгоритм имеет сложность nm, где n - длина строки a, m - длина строки b"
   ]
  },
  {
   "cell_type": "code",
   "execution_count": 9,
   "metadata": {},
   "outputs": [],
   "source": [
    "def inside(l_a, l_b, drop, res=False):\n",
    "    for i in l_b:\n",
    "        if i == l_a[-1]:\n",
    "            drop-=1\n",
    "            l_b.remove(i)\n",
    "            \n",
    "            if drop == 0:\n",
    "                return 0 \n",
    "            \n",
    "            else:\n",
    "                drop = inside(l_a[:-1], l_b, drop)\n",
    "\n",
    "    return drop"
   ]
  },
  {
   "cell_type": "code",
   "execution_count": 10,
   "metadata": {},
   "outputs": [],
   "source": [
    "def check_inv(a, b):   \n",
    "    a_char = [x for x in a]\n",
    "    b_char = [x for x in b]\n",
    "    drop = len(b_char)\n",
    "    print(a)\n",
    "    print(b)\n",
    "\n",
    "    while len(a_char) >= len(b_char):   \n",
    "        res = inside(a_char[:len(b_char)], b_char.copy(), drop)\n",
    "    \n",
    "        \n",
    "        if res == 0:\n",
    "            return True\n",
    "    \n",
    "        else:\n",
    "            a_char = a_char[res:]\n",
    "    \n",
    "    return False"
   ]
  },
  {
   "cell_type": "code",
   "execution_count": 11,
   "metadata": {},
   "outputs": [],
   "source": [
    "a = 'abcrotm'\n",
    "b = 'tro'"
   ]
  },
  {
   "cell_type": "code",
   "execution_count": 12,
   "metadata": {},
   "outputs": [
    {
     "name": "stdout",
     "output_type": "stream",
     "text": [
      "abcrotm\n",
      "tro\n"
     ]
    },
    {
     "data": {
      "text/plain": [
       "True"
      ]
     },
     "execution_count": 12,
     "metadata": {},
     "output_type": "execute_result"
    }
   ],
   "source": [
    "check_inv(a, b)"
   ]
  },
  {
   "cell_type": "markdown",
   "metadata": {},
   "source": [
    "# Задание 1.3\n",
    "\n",
    "Реализовать бинарное дерево (класс Tree), в нём методы __repr__, __str__, __iter__ (итерация только по листьям)."
   ]
  },
  {
   "cell_type": "code",
   "execution_count": 13,
   "metadata": {},
   "outputs": [
    {
     "data": {
      "text/plain": [
       "True"
      ]
     },
     "execution_count": 13,
     "metadata": {},
     "output_type": "execute_result"
    }
   ],
   "source": [
    "class Tree:\n",
    "    def __init__(self, value=None, left=None, right=None):\n",
    "        self.left = left\n",
    "        self.right = right\n",
    "        self.value = value\n",
    "\n",
    "    def __iter__(self):\n",
    "        if not self.left and not self.right:\n",
    "            yield self.value\n",
    "            \n",
    "        if self.left:\n",
    "            yield from self.left\n",
    "            \n",
    "        if self.right:\n",
    "            yield from self.right\n",
    "\n",
    "    \n",
    "    def __str__(self):\n",
    "        return f'{self.value}({self.left}, {self.right})'.replace('None', '*')\n",
    "\n",
    "    def __repr__(self):\n",
    "        return '{}({}, {}, {})'.format(self.__class__.__name__, \n",
    "                                       repr(self.value),\n",
    "                                       repr(self.left) if self.left else '*',\n",
    "                                       repr(self.right) if self.right else '*').replace(', *', '')\n",
    "\n",
    "\n",
    "tree = Tree(0, Tree(1, Tree(3), Tree(4)),\n",
    "            Tree(2))\n",
    "\n",
    "list(tree) == [3, 4, 2]"
   ]
  },
  {
   "cell_type": "code",
   "execution_count": 14,
   "metadata": {},
   "outputs": [
    {
     "name": "stdout",
     "output_type": "stream",
     "text": [
      "<generator object Tree.__iter__ at 0x7fdb19086cf0>\n",
      "0(1(3(*, *), 4(*, *)), 2(*, *))\n",
      "Tree(0, Tree(1, Tree(3), Tree(4)), Tree(2))\n"
     ]
    }
   ],
   "source": [
    "print(iter(tree))\n",
    "print(str(tree))\n",
    "print(repr(tree))"
   ]
  },
  {
   "cell_type": "markdown",
   "metadata": {},
   "source": [
    "# Задание 1.4\n",
    "\n",
    "Реализовать простейший калькулятор математических выражений:\n",
    "- только целые числа\n",
    "- **+**, **\\-**, **\\***, **\\**\n",
    "- скобки\n",
    "\n",
    "**Можно использовать регулярные выражения**"
   ]
  },
  {
   "cell_type": "code",
   "execution_count": 15,
   "metadata": {},
   "outputs": [],
   "source": [
    "import re"
   ]
  },
  {
   "cell_type": "code",
   "execution_count": 16,
   "metadata": {},
   "outputs": [],
   "source": [
    "#Элементарные операции\n",
    "def compute(a, b, opp):\n",
    "    a = float(a)\n",
    "    b = float(b)\n",
    "    if opp == '+':\n",
    "        return str(a + b)\n",
    "    \n",
    "    if opp == '-':\n",
    "        return str(a - b)\n",
    "    \n",
    "    if opp == '*':\n",
    "        return str(a * b)\n",
    "    \n",
    "    if opp == '\\\\':\n",
    "        return str(a / b)\n",
    "    "
   ]
  },
  {
   "cell_type": "code",
   "execution_count": 17,
   "metadata": {},
   "outputs": [],
   "source": [
    "#Вычисление значений в скобках\n",
    "def high_priority(string):\n",
    "\n",
    "    if string[0] == '(':\n",
    "        string = string[1:-1]\n",
    "    \n",
    "    #Вычисление операций первого приоритета\n",
    "    while re.search(r\" [*\\\\] \", string):   \n",
    "        #Операция\n",
    "        opp = re.search(r\"[*\\\\]\", string)[0]\n",
    "        \n",
    "        #Операнды \n",
    "        a, b = re.split(r\" [*\\\\] \" ,re.search(r\"[+-]*[.\\d]* [*\\\\] [+-]*[.\\d]*\", string)[0])\n",
    "        \n",
    "        #Замена операции на вычисленное значение\n",
    "        string = re.sub(r\"[+-]*[.\\d]* [*\\\\] [+-]*[.\\d]*\", compute(a, b, opp), string)\n",
    "\n",
    "    #Вычисление операций второго приоритета\n",
    "    while re.search(r\"\\d+ [+-]\", string):\n",
    "        #Операция\n",
    "        opp = re.search(r\"\\d+ [+-]\", string)[0][-1]\n",
    "        \n",
    "        #Операнды \n",
    "        a, b = re.split(r\" [+-] \", re.search(r\"[+-]*[.\\d]* [+-] [+-]*[.\\d]*\", string)[0])\n",
    "        \n",
    "        #Замена операции на вычисленное значение\n",
    "        string = re.sub(r\"[+-]*[.\\d]* [+-] [+-]*[.\\d]*\", compute(a, b, opp), string)           \n",
    "        \n",
    "    return string\n",
    "    "
   ]
  },
  {
   "cell_type": "code",
   "execution_count": 18,
   "metadata": {},
   "outputs": [
    {
     "data": {
      "text/plain": [
       "True"
      ]
     },
     "execution_count": 18,
     "metadata": {},
     "output_type": "execute_result"
    }
   ],
   "source": [
    "def calc(expr):\n",
    "    try:\n",
    "        while re.search(r\"\\(\", expr):\n",
    "            #Нахождение приоритетных скобок\n",
    "            brackets = re.search(r\"\\([^()]*\\)\", expr)[0]\n",
    "            \n",
    "            #Вычисление\n",
    "            expr = re.sub(r\"\\([^()]*\\)\", high_priority(brackets), expr)          \n",
    "            expr = re.sub(r\"--\", \"\", expr)\n",
    "\n",
    "        expr = high_priority(expr)       \n",
    "        return float(expr)\n",
    "    \n",
    "    except ZeroDivisionError:\n",
    "        return \"Деление на ноль!\"\n",
    "    \n",
    "    except:\n",
    "        return \"Неверный ввод!\"\n",
    "\n",
    "calc('2 * (15 - 3 * 4) - 2') == 4\n",
    "\n",
    "#calc('2 * (15 - 3 * 4) - 2')\n",
    "# calc('10 * ((15 - 5 * 4) - 2)')\n",
    "# calc('10 * (-(-15 - 5 * 4) - 2)')\n",
    "# calc('10 \\ -((35 - 5 * 4) - 2)')\n",
    "# calc('10 \\ -((35 - 5 * 4) - 15)')\n",
    "#calc('1 \\ -((35 - 5 * 4) - 10)') == 1 / -((35 - 5 * 4) - 10)\n",
    "#calc('10 \\ -((35 - 5 * 4) - -10)')"
   ]
  },
  {
   "cell_type": "code",
   "execution_count": null,
   "metadata": {},
   "outputs": [],
   "source": []
  }
 ],
 "metadata": {
  "kernelspec": {
   "display_name": "Python 3 (ipykernel)",
   "language": "python",
   "name": "python3"
  },
  "language_info": {
   "codemirror_mode": {
    "name": "ipython",
    "version": 3
   },
   "file_extension": ".py",
   "mimetype": "text/x-python",
   "name": "python",
   "nbconvert_exporter": "python",
   "pygments_lexer": "ipython3",
   "version": "3.9.7"
  },
  "vscode": {
   "interpreter": {
    "hash": "916dbcbb3f70747c44a77c7bcd40155683ae19c65e1c03b4aa3499c5328201f1"
   }
  }
 },
 "nbformat": 4,
 "nbformat_minor": 4
}
